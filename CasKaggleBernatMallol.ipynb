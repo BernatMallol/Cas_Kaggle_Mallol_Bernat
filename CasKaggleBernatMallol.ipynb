{
 "cells": [
  {
   "cell_type": "markdown",
   "id": "2bdd5c7f",
   "metadata": {},
   "source": [
    "# Part 1: Analisis de dades"
   ]
  },
  {
   "cell_type": "code",
   "execution_count": 1,
   "id": "24b87d23",
   "metadata": {},
   "outputs": [
    {
     "data": {
      "text/plain": [
       "(17494,)"
      ]
     },
     "execution_count": 1,
     "metadata": {},
     "output_type": "execute_result"
    }
   ],
   "source": [
    "from sklearn import datasets\n",
    "import numpy as np\n",
    "import pandas as pd\n",
    "import matplotlib.pyplot as plt\n",
    "import os\n",
    "\n",
    "        \n",
    "train = pd.read_csv(r'/Users/Usuario/Desktop/UNI 4/APC/Cas Kaggle/Cas_Kaggle_Mallol_Bernat/data/train_gr/train.csv')\n",
    "testpd = pd.read_csv(r'/Users/Usuario/Desktop/UNI 4/APC/Cas Kaggle/Cas_Kaggle_Mallol_Bernat/data/test_gr/test.csv')\n",
    "train.head()\n",
    "Y_train = train['user_suggestion']\n",
    "X_train = train['user_review']\n",
    "Y_train.shape\n"
   ]
  },
  {
   "cell_type": "markdown",
   "id": "00bab083",
   "metadata": {},
   "source": [
    "Com podem observar, un cop carregades les dades, he volgut mostrar els 5 primers documents del training set.\n",
    "Cal destacar que aquest, compta amb 5 variables diferents, les quals considero que hi han 2 que son molt importants.\n",
    "\n",
    "Per una part, tenim la variable independent de TIPUS TEXT -> user_review\n",
    "Per altre banda, tenim la variable que voldrem predir, o variable dependent/target -> user_suggestion\n",
    "\n",
    "Podem observar també, 2 coses més, la primera i crec més important, es que la variable sobre la que treballaré, per poder predir el target, no es ni numerica, ni categorica, sino de tipus text, i per això, ja puc descartar directament utilitzar regressió logistica, ja que aquesta no treballa amb variables de tipus text, sino amb variables numeriques o categoriques (de mes de 2 categories).\n",
    "\n",
    "L'altre cosa a observar, es que el target es una variable numerica binaria, es dir només pot prendre per valor 1 o 0, i aquesta variable basicament indica si l'usuari recomanaria el joc o no.\n",
    "\n",
    "El que hauré de fer doncs, es a partir de el comentari que hagi deixat, predir si l'usuari recomenaria o no el joc, per això abans, haurem de processar les dades, i molt probablement haure de generar un diccionari X[i,j] on X serà la paraula, i serà l'index d'un determinat document, i finalment, j serà el nombre de cops que apareix la paraula X en el document i"
   ]
  },
  {
   "cell_type": "markdown",
   "id": "c9f771ca",
   "metadata": {},
   "source": [
    "En quant les altres variables (review_id, title, year), considero que son merament informatives, per lo tant, no les utilitzaré per entrenar al meu model."
   ]
  },
  {
   "cell_type": "code",
   "execution_count": null,
   "id": "e494c5a3",
   "metadata": {},
   "outputs": [],
   "source": []
  },
  {
   "cell_type": "markdown",
   "id": "51fda932",
   "metadata": {},
   "source": [
    "Una altre visualització que podriem fer, es veure el nombre de paraules que té cada user_review."
   ]
  },
  {
   "cell_type": "code",
   "execution_count": 2,
   "id": "50f467e9",
   "metadata": {},
   "outputs": [
    {
     "data": {
      "text/html": [
       "<div>\n",
       "<style scoped>\n",
       "    .dataframe tbody tr th:only-of-type {\n",
       "        vertical-align: middle;\n",
       "    }\n",
       "\n",
       "    .dataframe tbody tr th {\n",
       "        vertical-align: top;\n",
       "    }\n",
       "\n",
       "    .dataframe thead th {\n",
       "        text-align: right;\n",
       "    }\n",
       "</style>\n",
       "<table border=\"1\" class=\"dataframe\">\n",
       "  <thead>\n",
       "    <tr style=\"text-align: right;\">\n",
       "      <th></th>\n",
       "      <th>title</th>\n",
       "      <th>user_review</th>\n",
       "      <th>user_suggestion</th>\n",
       "      <th>n_words</th>\n",
       "    </tr>\n",
       "  </thead>\n",
       "  <tbody>\n",
       "    <tr>\n",
       "      <th>0</th>\n",
       "      <td>Spooky's Jump Scare Mansion</td>\n",
       "      <td>I'm scared and hearing creepy voices.  So I'll...</td>\n",
       "      <td>1</td>\n",
       "      <td>132</td>\n",
       "    </tr>\n",
       "    <tr>\n",
       "      <th>1</th>\n",
       "      <td>Spooky's Jump Scare Mansion</td>\n",
       "      <td>Best game, more better than Sam Pepper's YouTu...</td>\n",
       "      <td>1</td>\n",
       "      <td>44</td>\n",
       "    </tr>\n",
       "    <tr>\n",
       "      <th>2</th>\n",
       "      <td>Spooky's Jump Scare Mansion</td>\n",
       "      <td>A littly iffy on the controls, but once you kn...</td>\n",
       "      <td>1</td>\n",
       "      <td>70</td>\n",
       "    </tr>\n",
       "    <tr>\n",
       "      <th>3</th>\n",
       "      <td>Spooky's Jump Scare Mansion</td>\n",
       "      <td>Great game, fun and colorful and all that.A si...</td>\n",
       "      <td>1</td>\n",
       "      <td>47</td>\n",
       "    </tr>\n",
       "    <tr>\n",
       "      <th>4</th>\n",
       "      <td>Spooky's Jump Scare Mansion</td>\n",
       "      <td>Not many games have the cute tag right next to...</td>\n",
       "      <td>1</td>\n",
       "      <td>67</td>\n",
       "    </tr>\n",
       "  </tbody>\n",
       "</table>\n",
       "</div>"
      ],
      "text/plain": [
       "                         title  \\\n",
       "0  Spooky's Jump Scare Mansion   \n",
       "1  Spooky's Jump Scare Mansion   \n",
       "2  Spooky's Jump Scare Mansion   \n",
       "3  Spooky's Jump Scare Mansion   \n",
       "4  Spooky's Jump Scare Mansion   \n",
       "\n",
       "                                         user_review  user_suggestion  n_words  \n",
       "0  I'm scared and hearing creepy voices.  So I'll...                1      132  \n",
       "1  Best game, more better than Sam Pepper's YouTu...                1       44  \n",
       "2  A littly iffy on the controls, but once you kn...                1       70  \n",
       "3  Great game, fun and colorful and all that.A si...                1       47  \n",
       "4  Not many games have the cute tag right next to...                1       67  "
      ]
     },
     "execution_count": 2,
     "metadata": {},
     "output_type": "execute_result"
    }
   ],
   "source": [
    "df = train.copy()\n",
    "df[\"n_words\"] = df[\"user_review\"].apply(lambda s: len(s.split()))\n",
    "dataClean  = df[[\"title\",\"user_review\", \"user_suggestion\", \"n_words\"]]\n",
    "dataClean.head()\n",
    "\n"
   ]
  },
  {
   "cell_type": "markdown",
   "id": "19e739cc",
   "metadata": {},
   "source": [
    "Com podem observar, he transformat el dataset, natejant algunes variables com l'identificador o l'any de la review, i he afegit per cada document, el nombre de paraules que conté cada review, per tenir una idea general del tamany del comentari."
   ]
  },
  {
   "cell_type": "markdown",
   "id": "dcffd125",
   "metadata": {},
   "source": [
    "Amb això, he pogut observar també, que hi ha una tendencia a que l'usuari recomani el joc si el comentari es mitjanament curt, i \n",
    "que no el recomani si el comentari es llarg, per verificar això, he volgut fer una correlació tenint en compte\n",
    "els tamanys dels comentaris, considerant un comentari extens si aquest compta amb més de 300 paraules, i considerant-lo curt si conté menys de 300 paraules."
   ]
  },
  {
   "cell_type": "code",
   "execution_count": 3,
   "id": "74cea67a",
   "metadata": {},
   "outputs": [
    {
     "name": "stdout",
     "output_type": "stream",
     "text": [
      "                             title  user_suggestion  n_words\n",
      "8      Spooky's Jump Scare Mansion                0      966\n",
      "91     Spooky's Jump Scare Mansion                0       65\n",
      "93     Spooky's Jump Scare Mansion                0       80\n",
      "99     Spooky's Jump Scare Mansion                0       51\n",
      "100    Spooky's Jump Scare Mansion                0       40\n",
      "...                            ...              ...      ...\n",
      "17421            School of Dragons                0      325\n",
      "17422            School of Dragons                0       54\n",
      "17423            School of Dragons                0      332\n",
      "17425                 EverQuest II                0      158\n",
      "17488                 EverQuest II                0       39\n",
      "\n",
      "[7526 rows x 3 columns]\n"
     ]
    }
   ],
   "source": [
    "# for i in dataClean:\n",
    "#     if i['user_suggestion']== 0:\n",
    "#         print(i)\n",
    "        \n",
    "print(dataClean[['title','user_suggestion','n_words']][dataClean.user_suggestion==0])"
   ]
  },
  {
   "cell_type": "markdown",
   "id": "7fe71274",
   "metadata": {},
   "source": [
    "Aparentment, sembla que l'observació que he fet, sigui erronea, ja que amb els 10 valors estem visualitzant, només 1 cumpleix la condició que habia dit, no gens menys, com que només estem visualitzant els 5 primers i 5 ultims documents, faré un gràfic per mostrar-ho d'una manera més visual."
   ]
  },
  {
   "cell_type": "code",
   "execution_count": 4,
   "id": "cdda1ef6",
   "metadata": {},
   "outputs": [
    {
     "name": "stdout",
     "output_type": "stream",
     "text": [
      "Nombre de comentaris positius: 9968\n",
      "Nombre de comentaris negatius: 7526\n"
     ]
    },
    {
     "data": {
      "image/png": "[encoded data removed]",
      "text/plain": [
       "<Figure size 1440x720 with 1 Axes>"
      ]
     },
     "metadata": {
      "needs_background": "light"
     },
     "output_type": "display_data"
    }
   ],
   "source": [
    "positiveUserSugg = dataClean[dataClean['user_suggestion']==1]['n_words']\n",
    "negativeUserSugg = dataClean[dataClean['user_suggestion']==0]['n_words']\n",
    "\n",
    "print(\"Nombre de comentaris positius: \" + str(len(positiveUserSugg)))\n",
    "print(\"Nombre de comentaris negatius: \" + str(len(negativeUserSugg)))\n",
    "\n",
    "plt.figure(figsize=(20,10))\n",
    "plt.hist([positiveUserSugg, negativeUserSugg], bins=50, alpha=0.5, label=['positive reviews', 'negative reviews'],color=['g','r'])\n",
    "plt.title(\"Nombre de paraules per comentari\")\n",
    "plt.xlabel(\"Nombre de paraules\")\n",
    "plt.ylabel(\"Nombre de comentaris\")\n",
    "plt.legend()\n",
    "plt.show()"
   ]
  },
  {
   "cell_type": "markdown",
   "id": "edaf3df7",
   "metadata": {},
   "source": [
    "La primera conclusió que podem treure d'aquest gràfic, es que la majoria dels comentaris, tenen entre 0 i 200 paraules, i d'aqui extreiem la gran diferencia de reviews positives i negatives, siguent en aquest rang (entre 0 i 200 paraules), molt més comú que el comentari sigui positiu, que negatiu.\n",
    "\n",
    "L'altre cosa que podem veure, es que a partir de les 400 paraules, ja podem trobar casos en que hi hauran mes comentaris negatius que positius.\n",
    "\n",
    "Per concluir, no podem dir que hi hagi una bona correlació treballant amb el nombre de paraules dels comentaris, es per això que no utilitzarem aquesta variable, si la tendencia seguís com en el cas del rang (0 a 200 paraules), fins al final (1600 paraules o mes), si que podriem utilitzar n_words.\n",
    "\n",
    "Per asegurarnos però, mirarem la correlació que hi ha entre target i la variable n_words:"
   ]
  },
  {
   "cell_type": "code",
   "execution_count": 5,
   "id": "129e289a",
   "metadata": {},
   "outputs": [
    {
     "data": {
      "text/html": [
       "<div>\n",
       "<style scoped>\n",
       "    .dataframe tbody tr th:only-of-type {\n",
       "        vertical-align: middle;\n",
       "    }\n",
       "\n",
       "    .dataframe tbody tr th {\n",
       "        vertical-align: top;\n",
       "    }\n",
       "\n",
       "    .dataframe thead th {\n",
       "        text-align: right;\n",
       "    }\n",
       "</style>\n",
       "<table border=\"1\" class=\"dataframe\">\n",
       "  <thead>\n",
       "    <tr style=\"text-align: right;\">\n",
       "      <th></th>\n",
       "      <th>user_suggestion</th>\n",
       "      <th>n_words</th>\n",
       "    </tr>\n",
       "  </thead>\n",
       "  <tbody>\n",
       "    <tr>\n",
       "      <th>user_suggestion</th>\n",
       "      <td>1.000000</td>\n",
       "      <td>-0.043512</td>\n",
       "    </tr>\n",
       "    <tr>\n",
       "      <th>n_words</th>\n",
       "      <td>-0.043512</td>\n",
       "      <td>1.000000</td>\n",
       "    </tr>\n",
       "  </tbody>\n",
       "</table>\n",
       "</div>"
      ],
      "text/plain": [
       "                 user_suggestion   n_words\n",
       "user_suggestion         1.000000 -0.043512\n",
       "n_words                -0.043512  1.000000"
      ]
     },
     "execution_count": 5,
     "metadata": {},
     "output_type": "execute_result"
    }
   ],
   "source": [
    "dataClean.corr()"
   ]
  },
  {
   "cell_type": "markdown",
   "id": "856c1775",
   "metadata": {},
   "source": [
    "No ens fa falta realitzar un mapa de calor per veure la poca correlació que hi ha entre n_words i user_suggestion."
   ]
  },
  {
   "cell_type": "markdown",
   "id": "9c1b0424",
   "metadata": {},
   "source": [
    "# Part 2: Preprocessing\n",
    "\n",
    "En aquesta segona part, basicament preparare el meu dataset per a poder treballar amb ell comodament, això inclou eliminar comentaris sense sentit, o dit d'una altre forma, comentaris en els quals hi apareixen caracters especials, i careixen de cap mena d'informació rellevant util per l'entrenament dels nostres models.\n",
    "\n",
    "Aquesta segona part, la dividiré en 2 seccions, la primera secció, es on natejaré el meu conjunt d'entrenament, tenint en compte 2 coses:\n",
    "\n",
    "    1a) Voldré borrar comentaris sense sentit, o dit d'una altre forma, comentaris en els quals hi apareixen caracters                   especials, i careixen de cap mena d'informació rellevant util per l'entrenament dels nostres models.\n",
    "    \n",
    "    2a) Com que haure de treballar amb les paraules de les reviews, posant-lis pes i frequencia d'aparició, m'interesa borrar també parts de comentaris les quals sempre es repeteixen, que vull dir amb aixó?\n",
    "    \n",
    "        Només donant una ullada al conjunt d'entrenament, he pogut observar que hi ha moltes reviews que començen amb 2 posibles frases diferents que son : 'Product received for free' i 'Early Access Review', com que aquestes frases es repeteixen en molts comentaris d'usuaris diferents, he arribat a la conclusió que aquestes, no han estat redactades per els usuaris, sino que s'han generat automaticament (podria ser donat a la selecció d'alguna opció), això significa que si no estan redactades per el mateix usuari, no les hauria de tenir en compte a l'hora de entrenar el meu model, i es per això que eliminare aquestes 2 frases de tots els reviews posibles.\n",
    "\n",
    "\n",
    "En la segona secció, basicament creare un diccionari on per cada paraula, mostrare la seva frequencia (cops que apareix) i li donare un pes."
   ]
  },
  {
   "cell_type": "markdown",
   "id": "cdc4fbfe",
   "metadata": {},
   "source": [
    "1a Secció - Part 1: Miraré si el comentari conté algun caracter que no sigui ASCII, en cas que contingui un 10% de caracters no ASCII, descartaré el comentari en questió."
   ]
  },
  {
   "cell_type": "code",
   "execution_count": 6,
   "id": "59d7e48c",
   "metadata": {},
   "outputs": [
    {
     "name": "stdout",
     "output_type": "stream",
     "text": [
      "Han quedat els seguents comentaris nets: 17326 de 17494 comentaris existents\n"
     ]
    }
   ],
   "source": [
    "dataClean  = df[[\"title\",\"user_review\", \"user_suggestion\"]].values.tolist()\n",
    "comentarisNets = []\n",
    "\n",
    "def isClean(doc):\n",
    "    charsTotals=len(doc)\n",
    "    charsNets=0\n",
    "    for char in list(doc):\n",
    "        if(ord(char) > 0 and ord(char) < 128):\n",
    "            charsNets = charsNets + 1\n",
    "    return (charsNets / charsTotals) >= 0.9\n",
    "    \n",
    "\n",
    "\n",
    "for comentari in dataClean:\n",
    "    if isClean(comentari[1]):\n",
    "        comentarisNets.append(comentari)\n",
    "\n",
    "print(\"Han quedat els seguents comentaris nets: {0}\".format(len(comentarisNets)) + \" de \" + str(len(dataClean)) + \" comentaris existents\" )\n",
    "\n",
    "\n"
   ]
  },
  {
   "cell_type": "markdown",
   "id": "079a6cc0",
   "metadata": {},
   "source": [
    "1a Secció - Part 2: Com he comentat abans, en aquesta part 2 de la secció 1, em dedicare a borrar principis de comentaris que no hagin estat escrits per el mateix usuari, es dir que s'hagin generat d'una altre forma."
   ]
  },
  {
   "cell_type": "markdown",
   "id": "d137f65a",
   "metadata": {},
   "source": [
    "Cal tenir en compte, que en el cas que hi hagin molts inicis de comentari com els que acabem de comentar, el fet de borrarlos, farà que poguem treballar molt millor amb el train dataset i alhora, el diccionari que generem, no serà tan gran."
   ]
  },
  {
   "cell_type": "code",
   "execution_count": 7,
   "id": "c3ed2863",
   "metadata": {},
   "outputs": [
    {
     "name": "stdout",
     "output_type": "stream",
     "text": [
      "Han estat eliminats: 5997 inicis automatics\n"
     ]
    }
   ],
   "source": [
    "def eliminarIniciGeneratAutomaticament(doc, automaticInsertions, counter):\n",
    "    for iniciAutomatic in InicisGeneratsAutomaticament:\n",
    "        if doc.startswith(iniciAutomatic):\n",
    "            counter+=1\n",
    "            return (True, doc[len(iniciAutomatic):], counter)\n",
    "    return (False, doc, counter)\n",
    "\n",
    "InicisGeneratsAutomaticament = [\"Early Access Review\", \"Product received for free\"]\n",
    "\n",
    "originals = []\n",
    "counter=0\n",
    "for comentari in comentarisNets:\n",
    "    correcio, comentariCorretgit, counter = eliminarIniciGeneratAutomaticament(comentari[1], InicisGeneratsAutomaticament,counter);\n",
    "    \n",
    "    if correcio == False:\n",
    "        originals.append(comentari[1])\n",
    "        comentari[1] = comentariCorretgit\n",
    "        \n",
    "print(\"Han estat eliminats: \"+str(counter)+\" inicis automatics\")\n",
    "\n"
   ]
  },
  {
   "cell_type": "code",
   "execution_count": 8,
   "id": "ca2fdacf",
   "metadata": {},
   "outputs": [
    {
     "name": "stdout",
     "output_type": "stream",
     "text": [
      "Best game, more better than Sam Pepper's YouTube account. 10/10What you'll need to play:A computerSome extra pants.Pros:Scary as hell.Fun.Adventure.Spooky.Did I forgot to mention that its scary as hell?You'll get more pants/briefs in your wardrobe.Time consuming if you're bored.Cons:Buying pants/briefs. You haven't downloaded it yet.\n"
     ]
    }
   ],
   "source": [
    "print(originals[1])"
   ]
  },
  {
   "cell_type": "markdown",
   "id": "0a449b8a",
   "metadata": {},
   "source": [
    "Un cop net el dataset, jo podem procedir a transformar-lo en un diccionari, el qual per cada paraula, li donarem una frequencia, per finalment donarli un pes, cal tenir en compte però, que la frequencia de cada paraula serà a nivell de dataset, i no de document, ja que així ens aseguirem un equilibri a l'hora d'assignar frequencies, si ho fesim per document, quedaria molt desaquilibrat al haver-hi desde comentaris que contenen fins a 5k paraules fins 10 paraules.\n",
    "\n",
    "Per generar el diccionari, utilitzare la llibreria nltk (natural language toolkit), la cual ens permet, entre moltes coses, processar variables de text, que es el que ara necesitem.\n"
   ]
  },
  {
   "cell_type": "code",
   "execution_count": 9,
   "id": "689b098a",
   "metadata": {},
   "outputs": [
    {
     "data": {
      "image/png": "[encoded data removed]",
      "text/plain": [
       "<Figure size 432x288 with 1 Axes>"
      ]
     },
     "metadata": {},
     "output_type": "display_data"
    },
    {
     "name": "stdout",
     "output_type": "stream",
     "text": [
      "[\"Spooky's Jump Scare Mansion\", \"Best game, more better than Sam Pepper's YouTube account. 10/10What you'll need to play:A computerSome extra pants.Pros:Scary as hell.Fun.Adventure.Spooky.Did I forgot to mention that its scary as hell?You'll get more pants/briefs in your wardrobe.Time consuming if you're bored.Cons:Buying pants/briefs. You haven't downloaded it yet.\", 1]\n"
     ]
    }
   ],
   "source": [
    "import string \n",
    "import nltk\n",
    "from collections import defaultdict\n",
    "from nltk.stem.snowball import SnowballStemmer\n",
    "from nltk.corpus import stopwords\n",
    "\n",
    "sbStemmer = SnowballStemmer(\"english\")\n",
    "diccionariAntic = {}\n",
    "def memoritzador(paraula): \n",
    "    if paraula in diccionariAntic:\n",
    "        return diccionariAntic[paraula]\n",
    "    else:\n",
    "        stemmed = sbStemmer.stem(paraula)\n",
    "        diccionariAntic[paraula] = stemmed\n",
    "        return stemmed\n",
    "    \n",
    "punctuationRemover = str.maketrans(string.punctuation, ' '*len(string.punctuation))\n",
    "\n",
    "def contadorParaules(lines):\n",
    "    wordCountDict = defaultdict(int)\n",
    "    for line in lines:\n",
    "        for paraula in line.lower().translate(punctuationRemover).split():\n",
    "            wordCountDict[memoritzador(paraula)] += 1\n",
    "    return wordCountDict\n",
    "\n",
    "def obtenirFrequencia(lines):\n",
    "    frequenciaDocument = defaultdict(int)\n",
    "    for line in lines:\n",
    "        wordSet = set(line.lower().translate(punctuationRemover).split())\n",
    "        for paraula in wordSet:\n",
    "            frequenciaDocument[memoritzador(paraula)] += 1\n",
    "    return frequenciaDocument\n",
    "\n",
    "comentarisPositius = [t[1] for t in comentarisNets if t[2] == 1]\n",
    "comentarisNegatius = [t[1] for t in comentarisNets if t[2] == 0]\n",
    "nombreParaulesPositives = contadorParaules(comentarisPositius)\n",
    "nombreParaulesNegatives = contadorParaules(comentarisNegatius)               \n",
    "frequenciaPositius = obtenirFrequencia(comentarisPositius)\n",
    "frequenciaNegatius = obtenirFrequencia(comentarisNegatius)\n",
    "\n",
    "for stopword in stopwords.words('english'):\n",
    "    nombreParaulesPositives.pop(stopword, None)\n",
    "    nombreParaulesNegatives.pop(stopword, None)\n",
    "\n",
    "negativeCols = [(paraula, count, frequenciaNegatius[paraula]) for paraula, count in nombreParaulesNegatives.items()]\n",
    "positiveCols = [(paraula, count, frequenciaPositius[paraula]) for paraula, count in nombreParaulesPositives.items()]\n",
    "\n",
    "plt.pie([len(nombreParaulesPositives),len(nombreParaulesNegatives)], labels=['Paraules positives','Paraules negatives'],\n",
    "        autopct='%1.1f%%', shadow=True, startangle=90)\n",
    "plt.title('Paraules positives vs negatives')\n",
    "plt.show()\n",
    "\n",
    "print(comentarisNets[1])"
   ]
  },
  {
   "cell_type": "markdown",
   "id": "1ff52241",
   "metadata": {},
   "source": [
    "Un cop fet el prepprocessament de dades, ja podem pasar a la seguent part, on farem la comparativa entrenant 2 models i comentarem els resultats."
   ]
  },
  {
   "cell_type": "markdown",
   "id": "2cdc97dd",
   "metadata": {},
   "source": [
    "# Part 3.1: Naive Bayes\n",
    "\n",
    "En aquest sub apartat, entrenarem amb el model Naive Bayes, ja que es un dels pocs que ens permet treballar amb variables de text."
   ]
  },
  {
   "cell_type": "code",
   "execution_count": 10,
   "id": "a451337e",
   "metadata": {},
   "outputs": [
    {
     "name": "stdout",
     "output_type": "stream",
     "text": [
      "Precisió Naive Bayes: 84.44893248701673 %, entrenament fet en: 0.006440500000000071 segons\n"
     ]
    }
   ],
   "source": [
    "from sklearn.feature_extraction.text import CountVectorizer\n",
    "from sklearn.model_selection import train_test_split\n",
    "from sklearn.naive_bayes import MultinomialNB\n",
    "ntlkStopWords = list(stopwords.words('english'))\n",
    "import timeit\n",
    "vectorizer = CountVectorizer(stop_words=ntlkStopWords, max_features=10000)\n",
    "\n",
    "data_user_review = [comentari[1] for comentari in comentarisNets]\n",
    "data_user_suggestion = [comentari[2] for comentari in comentarisNets] \n",
    "\n",
    "data_vec = vectorizer.fit_transform(data_user_review);\n",
    "train_X, test_X, train_Y, test_Y = train_test_split(data_vec, data_user_suggestion, test_size=0.2, random_state= 0xDEADBEEF)\n",
    "\n",
    "mnb = MultinomialNB()\n",
    "startTime=timeit.default_timer()\n",
    "mnb.fit(train_X, train_Y)\n",
    "endTime=timeit.default_timer()\n",
    "t=endTime-startTime\n",
    "\n",
    "print(\"Precisió Naive Bayes: {0} %\".format(mnb.score(test_X, test_Y) * 100) + \", entrenament fet en: {0} segons\".format(t))\n"
   ]
  },
  {
   "cell_type": "markdown",
   "id": "35e32f58",
   "metadata": {},
   "source": [
    "Podem dir que amb el model Naive Bayes, hem obtingut una bona precisió, però també es important veure el temps que ha tardat en fer l'entrenament, aquest es molt baix, per la cual cosa, podem afirmar que aquest, es un bon model per al nostre cas."
   ]
  },
  {
   "cell_type": "markdown",
   "id": "ecc039ff",
   "metadata": {},
   "source": [
    "# Part 3.2: SVC lineal\n",
    "\n",
    "En aquest segon subapartat, utilitzare com a model linear SVC, ja que entre altres coses, ens permet treballar amb entrades (variables independents) \"sparse\", o dit d'una altre manera, ens permet treballar amb dicionaris clau-valor, om es el nostre cas, tenint en compte, que quan més gran sigui el diccionari, més probabilitat de tenir una precisió alta tindrà el nostre model."
   ]
  },
  {
   "cell_type": "code",
   "execution_count": 11,
   "id": "492a5546",
   "metadata": {},
   "outputs": [
    {
     "name": "stdout",
     "output_type": "stream",
     "text": [
      "Precisió SVC lineal: 85.48759376803231 %, entrenament fet en: 12.836964300000002 segons\n"
     ]
    }
   ],
   "source": [
    "from sklearn.svm import LinearSVC\n",
    "import seaborn as sns\n",
    "\n",
    "classSVC= LinearSVC(max_iter=1000, tol=1e-5, dual=False, C=0.01)\n",
    "startTime=timeit.default_timer()\n",
    "classSVC.fit(train_X, train_Y)\n",
    "endTime=timeit.default_timer()\n",
    "t=endTime-startTime\n",
    "print(\"Precisió SVC lineal: {0} %\".format(classSVC.score(test_X, test_Y) * 100) + \", entrenament fet en: {0} segons\".format(t))\n"
   ]
  },
  {
   "cell_type": "markdown",
   "id": "b2aa790b",
   "metadata": {},
   "source": [
    "Com podem observar, aquest model, te millor precisió que el de Bayes, però per el que fa al temps d'entrenament, es molt, MOLT pitjor."
   ]
  },
  {
   "cell_type": "markdown",
   "id": "c1c61a19",
   "metadata": {},
   "source": [
    "# Part 4: Estudi de resultats i conclusions\n",
    "\n",
    "Per concluir aquest estudi, no ens queda cap altre cosa que comentar els resultats tant de precisio com de temps qe hem obtingut.\n",
    "\n",
    "Per una part, tenim l'entrenament de Naive Bayes, al no haberlo vist abans, m'ha sigut una mica complicat treballar amb ell, però un cop acostumat, i vistos els resultats, he pogut veure que era un molt bon model, sobretot en casos en els que tinguem poques dades, com es el meu cas, el qual estic treballant, despres de tota la nateja de dades, amb aproximadament 17000 documents.\n",
    "\n",
    "En definitiva, Naive Bayes, ha donat bons resultats tant de precisió (84,44%) com de temps (0,006s), que es el que ha tardat en fer l'entrenament del training set.\n",
    "\n",
    "Per altra banda, tenim el SVC linear, aquest classificador, ja l'habiem vist a classe, per tant, no m'ha sigut tant complicat treballar amb ell com amb el cas anterior.\n",
    "Abans de parlar dels resultats obtinguts, cal tenir en compte que quantas més mostres tinguem, millor precisió donarà aquest model. Saben això, els resultats obtinguts han estat una mica sorprenents, ja que en termes de precisió, ha estat inclus una mica millor que Naive Bayes, amb  una precisió d'aproximadament 85,54%, no gens menys, el temps ha estat \"fatidic\", ja que ha tardat 7,25 segons, bastantes ordres de magnitud més que el que ha tardat Naive Bayes en entrenar.\n",
    "\n",
    "Així doncs, posant-me en la pell d'algú que estigues utilitzant aquests models en la seva carrera professional, si el que busco es explicitament, el maxim de precisió, sense importar el temps que tardi en entrenar el model, em quedaria amb el SVC  linear, si el que busco es una bona precisió i un bon temps, sens dubte, Naive Bayes es el que hauriem d'elegir.\n",
    "\n",
    "No gens menys, posant tots els resultats obtinguts sobre la taula, considero que es bastant millor Naive Bayes, ja que en el nostre cas, treballem amb poques dades, i la diferencia abismal de temps ha fet que em decanti per aquest model, tot i tenir menys precisió que SVC lineal.\n",
    "\n",
    "Per acabar, comentar que la feina complicada en aquest estudi, no ha estat treballar amb els models, sinó preparar les dades per a que siguin valides per a entrenar aquests models, ja que les dades amb les que anabem a treballar, eren comentaris, es dir variables de text, i el procés de pasar aquest comentari a un vector de caracteristiques per despres convertir-ho en un diccionari al qual li he donat pes i frequencia, ha estat la part més complicada sens dubte."
   ]
  },
  {
   "cell_type": "code",
   "execution_count": null,
   "id": "012034c9",
   "metadata": {},
   "outputs": [],
   "source": []
  }
 ],
 "metadata": {
  "kernelspec": {
   "display_name": "Python 3 (ipykernel)",
   "language": "python",
   "name": "python3"
  },
  "language_info": {
   "codemirror_mode": {
    "name": "ipython",
    "version": 3
   },
   "file_extension": ".py",
   "mimetype": "text/x-python",
   "name": "python",
   "nbconvert_exporter": "python",
   "pygments_lexer": "ipython3",
   "version": "3.9.7"
  }
 },
 "nbformat": 4,
 "nbformat_minor": 5
}
